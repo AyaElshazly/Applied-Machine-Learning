{
  "cells": [
    {
      "cell_type": "markdown",
      "metadata": {
        "id": "view-in-github",
        "colab_type": "text"
      },
      "source": [
        "<a href=\"https://colab.research.google.com/github/AyaElshazly/Applied-Machine-Learning/blob/main/Group4_HW2.ipynb\" target=\"_parent\"><img src=\"https://colab.research.google.com/assets/colab-badge.svg\" alt=\"Open In Colab\"/></a>"
      ]
    },
    {
      "cell_type": "markdown",
      "metadata": {
        "id": "4kohgdvotWoK"
      },
      "source": [
        "## **Import Libraries**"
      ]
    },
    {
      "cell_type": "code",
      "execution_count": null,
      "metadata": {
        "id": "9uqklrLAKHp2"
      },
      "outputs": [],
      "source": [
        "import pandas as pd\n",
        "import numpy as np\n",
        "import matplotlib.pyplot as plt\n",
        "from sklearn.model_selection import train_test_split\n",
        "from sklearn.naive_bayes import GaussianNB, MultinomialNB, ComplementNB, BernoulliNB\n",
        "from sklearn.metrics import accuracy_score\n",
        "from sklearn.metrics import classification_report, ConfusionMatrixDisplay, accuracy_score, confusion_matrix\n",
        "from sklearn.metrics import (\n",
        "    confusion_matrix,\n",
        "    accuracy_score,\n",
        "    precision_score,\n",
        "    recall_score,\n",
        "    f1_score\n",
        ")\n",
        "from sklearn.metrics import classification_report\n"
      ]
    },
    {
      "cell_type": "markdown",
      "metadata": {
        "id": "A3gGotsytPwa"
      },
      "source": [
        "# **General function for confusion function**"
      ]
    },
    {
      "cell_type": "code",
      "execution_count": null,
      "metadata": {
        "id": "Hk3vYrq8nb-r"
      },
      "outputs": [],
      "source": [
        "def conff_matrix(conf_matrix):\n",
        "  fig, ax = plt.subplots(figsize=(5, 5))\n",
        "  ax.matshow(conf_matrix, cmap=plt.cm.Blues, alpha=0.8)\n",
        "  for i in range(conf_matrix.shape[0]):\n",
        "      for j in range(conf_matrix.shape[1]):\n",
        "          ax.text(x=j, y=i,s=conf_matrix[i, j], va='center', ha='center', size='xx-large')\n",
        "\n",
        "  plt.xlabel('Predictions', fontsize=18)\n",
        "  plt.ylabel('Actuals', fontsize=18)\n",
        "  plt.title('Confusion Matrix', fontsize=18)\n",
        "  plt.show()"
      ]
    },
    {
      "cell_type": "markdown",
      "metadata": {
        "id": "TWTt3Igcte33"
      },
      "source": [
        "# **Reading data from the URL**"
      ]
    },
    {
      "cell_type": "code",
      "execution_count": null,
      "metadata": {
        "id": "19__Qvi6KXsV"
      },
      "outputs": [],
      "source": [
        "url = 'https://archive.ics.uci.edu/ml/machine-learning-databases/spambase/spambase.data'\n",
        "df = pd.read_csv(url, header=None)"
      ]
    },
    {
      "cell_type": "markdown",
      "metadata": {
        "id": "Ru2MN9REto26"
      },
      "source": [
        "# **Display the dataframe**"
      ]
    },
    {
      "cell_type": "code",
      "execution_count": null,
      "metadata": {
        "colab": {
          "base_uri": "https://localhost:8080/",
          "height": 423
        },
        "id": "6DP4AO84LP8x",
        "outputId": "36022826-a915-4fe7-bea8-7dd70f0fbb12"
      },
      "outputs": [
        {
          "data": {
            "text/html": [
              "<div>\n",
              "<style scoped>\n",
              "    .dataframe tbody tr th:only-of-type {\n",
              "        vertical-align: middle;\n",
              "    }\n",
              "\n",
              "    .dataframe tbody tr th {\n",
              "        vertical-align: top;\n",
              "    }\n",
              "\n",
              "    .dataframe thead th {\n",
              "        text-align: right;\n",
              "    }\n",
              "</style>\n",
              "<table border=\"1\" class=\"dataframe\">\n",
              "  <thead>\n",
              "    <tr style=\"text-align: right;\">\n",
              "      <th></th>\n",
              "      <th>0</th>\n",
              "      <th>1</th>\n",
              "      <th>2</th>\n",
              "      <th>3</th>\n",
              "      <th>4</th>\n",
              "      <th>5</th>\n",
              "      <th>6</th>\n",
              "      <th>7</th>\n",
              "      <th>8</th>\n",
              "      <th>9</th>\n",
              "      <th>...</th>\n",
              "      <th>48</th>\n",
              "      <th>49</th>\n",
              "      <th>50</th>\n",
              "      <th>51</th>\n",
              "      <th>52</th>\n",
              "      <th>53</th>\n",
              "      <th>54</th>\n",
              "      <th>55</th>\n",
              "      <th>56</th>\n",
              "      <th>57</th>\n",
              "    </tr>\n",
              "  </thead>\n",
              "  <tbody>\n",
              "    <tr>\n",
              "      <th>0</th>\n",
              "      <td>0.00</td>\n",
              "      <td>0.64</td>\n",
              "      <td>0.64</td>\n",
              "      <td>0.0</td>\n",
              "      <td>0.32</td>\n",
              "      <td>0.00</td>\n",
              "      <td>0.00</td>\n",
              "      <td>0.00</td>\n",
              "      <td>0.00</td>\n",
              "      <td>0.00</td>\n",
              "      <td>...</td>\n",
              "      <td>0.000</td>\n",
              "      <td>0.000</td>\n",
              "      <td>0.0</td>\n",
              "      <td>0.778</td>\n",
              "      <td>0.000</td>\n",
              "      <td>0.000</td>\n",
              "      <td>3.756</td>\n",
              "      <td>61</td>\n",
              "      <td>278</td>\n",
              "      <td>1</td>\n",
              "    </tr>\n",
              "    <tr>\n",
              "      <th>1</th>\n",
              "      <td>0.21</td>\n",
              "      <td>0.28</td>\n",
              "      <td>0.50</td>\n",
              "      <td>0.0</td>\n",
              "      <td>0.14</td>\n",
              "      <td>0.28</td>\n",
              "      <td>0.21</td>\n",
              "      <td>0.07</td>\n",
              "      <td>0.00</td>\n",
              "      <td>0.94</td>\n",
              "      <td>...</td>\n",
              "      <td>0.000</td>\n",
              "      <td>0.132</td>\n",
              "      <td>0.0</td>\n",
              "      <td>0.372</td>\n",
              "      <td>0.180</td>\n",
              "      <td>0.048</td>\n",
              "      <td>5.114</td>\n",
              "      <td>101</td>\n",
              "      <td>1028</td>\n",
              "      <td>1</td>\n",
              "    </tr>\n",
              "    <tr>\n",
              "      <th>2</th>\n",
              "      <td>0.06</td>\n",
              "      <td>0.00</td>\n",
              "      <td>0.71</td>\n",
              "      <td>0.0</td>\n",
              "      <td>1.23</td>\n",
              "      <td>0.19</td>\n",
              "      <td>0.19</td>\n",
              "      <td>0.12</td>\n",
              "      <td>0.64</td>\n",
              "      <td>0.25</td>\n",
              "      <td>...</td>\n",
              "      <td>0.010</td>\n",
              "      <td>0.143</td>\n",
              "      <td>0.0</td>\n",
              "      <td>0.276</td>\n",
              "      <td>0.184</td>\n",
              "      <td>0.010</td>\n",
              "      <td>9.821</td>\n",
              "      <td>485</td>\n",
              "      <td>2259</td>\n",
              "      <td>1</td>\n",
              "    </tr>\n",
              "    <tr>\n",
              "      <th>3</th>\n",
              "      <td>0.00</td>\n",
              "      <td>0.00</td>\n",
              "      <td>0.00</td>\n",
              "      <td>0.0</td>\n",
              "      <td>0.63</td>\n",
              "      <td>0.00</td>\n",
              "      <td>0.31</td>\n",
              "      <td>0.63</td>\n",
              "      <td>0.31</td>\n",
              "      <td>0.63</td>\n",
              "      <td>...</td>\n",
              "      <td>0.000</td>\n",
              "      <td>0.137</td>\n",
              "      <td>0.0</td>\n",
              "      <td>0.137</td>\n",
              "      <td>0.000</td>\n",
              "      <td>0.000</td>\n",
              "      <td>3.537</td>\n",
              "      <td>40</td>\n",
              "      <td>191</td>\n",
              "      <td>1</td>\n",
              "    </tr>\n",
              "    <tr>\n",
              "      <th>4</th>\n",
              "      <td>0.00</td>\n",
              "      <td>0.00</td>\n",
              "      <td>0.00</td>\n",
              "      <td>0.0</td>\n",
              "      <td>0.63</td>\n",
              "      <td>0.00</td>\n",
              "      <td>0.31</td>\n",
              "      <td>0.63</td>\n",
              "      <td>0.31</td>\n",
              "      <td>0.63</td>\n",
              "      <td>...</td>\n",
              "      <td>0.000</td>\n",
              "      <td>0.135</td>\n",
              "      <td>0.0</td>\n",
              "      <td>0.135</td>\n",
              "      <td>0.000</td>\n",
              "      <td>0.000</td>\n",
              "      <td>3.537</td>\n",
              "      <td>40</td>\n",
              "      <td>191</td>\n",
              "      <td>1</td>\n",
              "    </tr>\n",
              "    <tr>\n",
              "      <th>...</th>\n",
              "      <td>...</td>\n",
              "      <td>...</td>\n",
              "      <td>...</td>\n",
              "      <td>...</td>\n",
              "      <td>...</td>\n",
              "      <td>...</td>\n",
              "      <td>...</td>\n",
              "      <td>...</td>\n",
              "      <td>...</td>\n",
              "      <td>...</td>\n",
              "      <td>...</td>\n",
              "      <td>...</td>\n",
              "      <td>...</td>\n",
              "      <td>...</td>\n",
              "      <td>...</td>\n",
              "      <td>...</td>\n",
              "      <td>...</td>\n",
              "      <td>...</td>\n",
              "      <td>...</td>\n",
              "      <td>...</td>\n",
              "      <td>...</td>\n",
              "    </tr>\n",
              "    <tr>\n",
              "      <th>4596</th>\n",
              "      <td>0.31</td>\n",
              "      <td>0.00</td>\n",
              "      <td>0.62</td>\n",
              "      <td>0.0</td>\n",
              "      <td>0.00</td>\n",
              "      <td>0.31</td>\n",
              "      <td>0.00</td>\n",
              "      <td>0.00</td>\n",
              "      <td>0.00</td>\n",
              "      <td>0.00</td>\n",
              "      <td>...</td>\n",
              "      <td>0.000</td>\n",
              "      <td>0.232</td>\n",
              "      <td>0.0</td>\n",
              "      <td>0.000</td>\n",
              "      <td>0.000</td>\n",
              "      <td>0.000</td>\n",
              "      <td>1.142</td>\n",
              "      <td>3</td>\n",
              "      <td>88</td>\n",
              "      <td>0</td>\n",
              "    </tr>\n",
              "    <tr>\n",
              "      <th>4597</th>\n",
              "      <td>0.00</td>\n",
              "      <td>0.00</td>\n",
              "      <td>0.00</td>\n",
              "      <td>0.0</td>\n",
              "      <td>0.00</td>\n",
              "      <td>0.00</td>\n",
              "      <td>0.00</td>\n",
              "      <td>0.00</td>\n",
              "      <td>0.00</td>\n",
              "      <td>0.00</td>\n",
              "      <td>...</td>\n",
              "      <td>0.000</td>\n",
              "      <td>0.000</td>\n",
              "      <td>0.0</td>\n",
              "      <td>0.353</td>\n",
              "      <td>0.000</td>\n",
              "      <td>0.000</td>\n",
              "      <td>1.555</td>\n",
              "      <td>4</td>\n",
              "      <td>14</td>\n",
              "      <td>0</td>\n",
              "    </tr>\n",
              "    <tr>\n",
              "      <th>4598</th>\n",
              "      <td>0.30</td>\n",
              "      <td>0.00</td>\n",
              "      <td>0.30</td>\n",
              "      <td>0.0</td>\n",
              "      <td>0.00</td>\n",
              "      <td>0.00</td>\n",
              "      <td>0.00</td>\n",
              "      <td>0.00</td>\n",
              "      <td>0.00</td>\n",
              "      <td>0.00</td>\n",
              "      <td>...</td>\n",
              "      <td>0.102</td>\n",
              "      <td>0.718</td>\n",
              "      <td>0.0</td>\n",
              "      <td>0.000</td>\n",
              "      <td>0.000</td>\n",
              "      <td>0.000</td>\n",
              "      <td>1.404</td>\n",
              "      <td>6</td>\n",
              "      <td>118</td>\n",
              "      <td>0</td>\n",
              "    </tr>\n",
              "    <tr>\n",
              "      <th>4599</th>\n",
              "      <td>0.96</td>\n",
              "      <td>0.00</td>\n",
              "      <td>0.00</td>\n",
              "      <td>0.0</td>\n",
              "      <td>0.32</td>\n",
              "      <td>0.00</td>\n",
              "      <td>0.00</td>\n",
              "      <td>0.00</td>\n",
              "      <td>0.00</td>\n",
              "      <td>0.00</td>\n",
              "      <td>...</td>\n",
              "      <td>0.000</td>\n",
              "      <td>0.057</td>\n",
              "      <td>0.0</td>\n",
              "      <td>0.000</td>\n",
              "      <td>0.000</td>\n",
              "      <td>0.000</td>\n",
              "      <td>1.147</td>\n",
              "      <td>5</td>\n",
              "      <td>78</td>\n",
              "      <td>0</td>\n",
              "    </tr>\n",
              "    <tr>\n",
              "      <th>4600</th>\n",
              "      <td>0.00</td>\n",
              "      <td>0.00</td>\n",
              "      <td>0.65</td>\n",
              "      <td>0.0</td>\n",
              "      <td>0.00</td>\n",
              "      <td>0.00</td>\n",
              "      <td>0.00</td>\n",
              "      <td>0.00</td>\n",
              "      <td>0.00</td>\n",
              "      <td>0.00</td>\n",
              "      <td>...</td>\n",
              "      <td>0.000</td>\n",
              "      <td>0.000</td>\n",
              "      <td>0.0</td>\n",
              "      <td>0.125</td>\n",
              "      <td>0.000</td>\n",
              "      <td>0.000</td>\n",
              "      <td>1.250</td>\n",
              "      <td>5</td>\n",
              "      <td>40</td>\n",
              "      <td>0</td>\n",
              "    </tr>\n",
              "  </tbody>\n",
              "</table>\n",
              "<p>4601 rows × 58 columns</p>\n",
              "</div>"
            ],
            "text/plain": [
              "        0     1     2    3     4     5     6     7     8     9   ...     48  \\\n",
              "0     0.00  0.64  0.64  0.0  0.32  0.00  0.00  0.00  0.00  0.00  ...  0.000   \n",
              "1     0.21  0.28  0.50  0.0  0.14  0.28  0.21  0.07  0.00  0.94  ...  0.000   \n",
              "2     0.06  0.00  0.71  0.0  1.23  0.19  0.19  0.12  0.64  0.25  ...  0.010   \n",
              "3     0.00  0.00  0.00  0.0  0.63  0.00  0.31  0.63  0.31  0.63  ...  0.000   \n",
              "4     0.00  0.00  0.00  0.0  0.63  0.00  0.31  0.63  0.31  0.63  ...  0.000   \n",
              "...    ...   ...   ...  ...   ...   ...   ...   ...   ...   ...  ...    ...   \n",
              "4596  0.31  0.00  0.62  0.0  0.00  0.31  0.00  0.00  0.00  0.00  ...  0.000   \n",
              "4597  0.00  0.00  0.00  0.0  0.00  0.00  0.00  0.00  0.00  0.00  ...  0.000   \n",
              "4598  0.30  0.00  0.30  0.0  0.00  0.00  0.00  0.00  0.00  0.00  ...  0.102   \n",
              "4599  0.96  0.00  0.00  0.0  0.32  0.00  0.00  0.00  0.00  0.00  ...  0.000   \n",
              "4600  0.00  0.00  0.65  0.0  0.00  0.00  0.00  0.00  0.00  0.00  ...  0.000   \n",
              "\n",
              "         49   50     51     52     53     54   55    56  57  \n",
              "0     0.000  0.0  0.778  0.000  0.000  3.756   61   278   1  \n",
              "1     0.132  0.0  0.372  0.180  0.048  5.114  101  1028   1  \n",
              "2     0.143  0.0  0.276  0.184  0.010  9.821  485  2259   1  \n",
              "3     0.137  0.0  0.137  0.000  0.000  3.537   40   191   1  \n",
              "4     0.135  0.0  0.135  0.000  0.000  3.537   40   191   1  \n",
              "...     ...  ...    ...    ...    ...    ...  ...   ...  ..  \n",
              "4596  0.232  0.0  0.000  0.000  0.000  1.142    3    88   0  \n",
              "4597  0.000  0.0  0.353  0.000  0.000  1.555    4    14   0  \n",
              "4598  0.718  0.0  0.000  0.000  0.000  1.404    6   118   0  \n",
              "4599  0.057  0.0  0.000  0.000  0.000  1.147    5    78   0  \n",
              "4600  0.000  0.0  0.125  0.000  0.000  1.250    5    40   0  \n",
              "\n",
              "[4601 rows x 58 columns]"
            ]
          },
          "execution_count": 34,
          "metadata": {},
          "output_type": "execute_result"
        }
      ],
      "source": [
        "df"
      ]
    },
    {
      "cell_type": "markdown",
      "metadata": {
        "id": "5mcK665WtFpd"
      },
      "source": [
        "# **Adding Headers to the data**"
      ]
    },
    {
      "cell_type": "code",
      "execution_count": null,
      "metadata": {
        "colab": {
          "base_uri": "https://localhost:8080/"
        },
        "id": "1AJxdMTg62q2",
        "outputId": "d956ac39-cce8-4cf9-d835-88a22a9bccf2"
      },
      "outputs": [
        {
          "data": {
            "text/html": [
              "<div>\n",
              "<style scoped>\n",
              "    .dataframe tbody tr th:only-of-type {\n",
              "        vertical-align: middle;\n",
              "    }\n",
              "\n",
              "    .dataframe tbody tr th {\n",
              "        vertical-align: top;\n",
              "    }\n",
              "\n",
              "    .dataframe thead th {\n",
              "        text-align: right;\n",
              "    }\n",
              "</style>\n",
              "<table border=\"1\" class=\"dataframe\">\n",
              "  <thead>\n",
              "    <tr style=\"text-align: right;\">\n",
              "      <th></th>\n",
              "      <th>make</th>\n",
              "      <th>address</th>\n",
              "      <th>all</th>\n",
              "      <th>3d</th>\n",
              "      <th>our</th>\n",
              "      <th>over</th>\n",
              "      <th>remove</th>\n",
              "      <th>internet</th>\n",
              "      <th>order</th>\n",
              "      <th>mail</th>\n",
              "      <th>...</th>\n",
              "      <th>char_semicolon</th>\n",
              "      <th>char_parenthesis</th>\n",
              "      <th>char_bracket</th>\n",
              "      <th>char_exclamation</th>\n",
              "      <th>char_dollar</th>\n",
              "      <th>char_hashtag</th>\n",
              "      <th>capital_run_length_average</th>\n",
              "      <th>capital_run_length_longest</th>\n",
              "      <th>capital_run_length_total</th>\n",
              "      <th>is_spam</th>\n",
              "    </tr>\n",
              "  </thead>\n",
              "  <tbody>\n",
              "    <tr>\n",
              "      <th>0</th>\n",
              "      <td>0.00</td>\n",
              "      <td>0.64</td>\n",
              "      <td>0.64</td>\n",
              "      <td>0.0</td>\n",
              "      <td>0.32</td>\n",
              "      <td>0.00</td>\n",
              "      <td>0.00</td>\n",
              "      <td>0.00</td>\n",
              "      <td>0.00</td>\n",
              "      <td>0.00</td>\n",
              "      <td>...</td>\n",
              "      <td>0.00</td>\n",
              "      <td>0.000</td>\n",
              "      <td>0.0</td>\n",
              "      <td>0.778</td>\n",
              "      <td>0.000</td>\n",
              "      <td>0.000</td>\n",
              "      <td>3.756</td>\n",
              "      <td>61</td>\n",
              "      <td>278</td>\n",
              "      <td>1</td>\n",
              "    </tr>\n",
              "    <tr>\n",
              "      <th>1</th>\n",
              "      <td>0.21</td>\n",
              "      <td>0.28</td>\n",
              "      <td>0.50</td>\n",
              "      <td>0.0</td>\n",
              "      <td>0.14</td>\n",
              "      <td>0.28</td>\n",
              "      <td>0.21</td>\n",
              "      <td>0.07</td>\n",
              "      <td>0.00</td>\n",
              "      <td>0.94</td>\n",
              "      <td>...</td>\n",
              "      <td>0.00</td>\n",
              "      <td>0.132</td>\n",
              "      <td>0.0</td>\n",
              "      <td>0.372</td>\n",
              "      <td>0.180</td>\n",
              "      <td>0.048</td>\n",
              "      <td>5.114</td>\n",
              "      <td>101</td>\n",
              "      <td>1028</td>\n",
              "      <td>1</td>\n",
              "    </tr>\n",
              "    <tr>\n",
              "      <th>2</th>\n",
              "      <td>0.06</td>\n",
              "      <td>0.00</td>\n",
              "      <td>0.71</td>\n",
              "      <td>0.0</td>\n",
              "      <td>1.23</td>\n",
              "      <td>0.19</td>\n",
              "      <td>0.19</td>\n",
              "      <td>0.12</td>\n",
              "      <td>0.64</td>\n",
              "      <td>0.25</td>\n",
              "      <td>...</td>\n",
              "      <td>0.01</td>\n",
              "      <td>0.143</td>\n",
              "      <td>0.0</td>\n",
              "      <td>0.276</td>\n",
              "      <td>0.184</td>\n",
              "      <td>0.010</td>\n",
              "      <td>9.821</td>\n",
              "      <td>485</td>\n",
              "      <td>2259</td>\n",
              "      <td>1</td>\n",
              "    </tr>\n",
              "    <tr>\n",
              "      <th>3</th>\n",
              "      <td>0.00</td>\n",
              "      <td>0.00</td>\n",
              "      <td>0.00</td>\n",
              "      <td>0.0</td>\n",
              "      <td>0.63</td>\n",
              "      <td>0.00</td>\n",
              "      <td>0.31</td>\n",
              "      <td>0.63</td>\n",
              "      <td>0.31</td>\n",
              "      <td>0.63</td>\n",
              "      <td>...</td>\n",
              "      <td>0.00</td>\n",
              "      <td>0.137</td>\n",
              "      <td>0.0</td>\n",
              "      <td>0.137</td>\n",
              "      <td>0.000</td>\n",
              "      <td>0.000</td>\n",
              "      <td>3.537</td>\n",
              "      <td>40</td>\n",
              "      <td>191</td>\n",
              "      <td>1</td>\n",
              "    </tr>\n",
              "    <tr>\n",
              "      <th>4</th>\n",
              "      <td>0.00</td>\n",
              "      <td>0.00</td>\n",
              "      <td>0.00</td>\n",
              "      <td>0.0</td>\n",
              "      <td>0.63</td>\n",
              "      <td>0.00</td>\n",
              "      <td>0.31</td>\n",
              "      <td>0.63</td>\n",
              "      <td>0.31</td>\n",
              "      <td>0.63</td>\n",
              "      <td>...</td>\n",
              "      <td>0.00</td>\n",
              "      <td>0.135</td>\n",
              "      <td>0.0</td>\n",
              "      <td>0.135</td>\n",
              "      <td>0.000</td>\n",
              "      <td>0.000</td>\n",
              "      <td>3.537</td>\n",
              "      <td>40</td>\n",
              "      <td>191</td>\n",
              "      <td>1</td>\n",
              "    </tr>\n",
              "  </tbody>\n",
              "</table>\n",
              "<p>5 rows × 58 columns</p>\n",
              "</div>"
            ],
            "text/plain": [
              "   make  address   all   3d   our  over  remove  internet  order  mail  ...  \\\n",
              "0  0.00     0.64  0.64  0.0  0.32  0.00    0.00      0.00   0.00  0.00  ...   \n",
              "1  0.21     0.28  0.50  0.0  0.14  0.28    0.21      0.07   0.00  0.94  ...   \n",
              "2  0.06     0.00  0.71  0.0  1.23  0.19    0.19      0.12   0.64  0.25  ...   \n",
              "3  0.00     0.00  0.00  0.0  0.63  0.00    0.31      0.63   0.31  0.63  ...   \n",
              "4  0.00     0.00  0.00  0.0  0.63  0.00    0.31      0.63   0.31  0.63  ...   \n",
              "\n",
              "   char_semicolon  char_parenthesis  char_bracket  char_exclamation  \\\n",
              "0            0.00             0.000           0.0             0.778   \n",
              "1            0.00             0.132           0.0             0.372   \n",
              "2            0.01             0.143           0.0             0.276   \n",
              "3            0.00             0.137           0.0             0.137   \n",
              "4            0.00             0.135           0.0             0.135   \n",
              "\n",
              "   char_dollar  char_hashtag  capital_run_length_average  \\\n",
              "0        0.000         0.000                       3.756   \n",
              "1        0.180         0.048                       5.114   \n",
              "2        0.184         0.010                       9.821   \n",
              "3        0.000         0.000                       3.537   \n",
              "4        0.000         0.000                       3.537   \n",
              "\n",
              "   capital_run_length_longest  capital_run_length_total  is_spam  \n",
              "0                          61                       278        1  \n",
              "1                         101                      1028        1  \n",
              "2                         485                      2259        1  \n",
              "3                          40                       191        1  \n",
              "4                          40                       191        1  \n",
              "\n",
              "[5 rows x 58 columns]"
            ]
          },
          "execution_count": 35,
          "metadata": {},
          "output_type": "execute_result"
        }
      ],
      "source": [
        "column_names = ['make', 'address', 'all', '3d',\n",
        "                    'our', 'over', 'remove', 'internet',\n",
        "                    'order', 'mail', 'receive', 'will',\n",
        "                    'people', 'report', 'address', 'free',\n",
        "                    'business', 'email', 'you', 'credit',\n",
        "                    'your', 'font', '000', 'money',\n",
        "                    'hp', 'hpl', 'george', '650',\n",
        "                    'lab', 'labs', 'telnet', '857',\n",
        "                    'data', '415', '85', 'technology',\n",
        "                    '1999', 'parts', 'pm', 'direct',\n",
        "                    'cs', 'meeting', 'original', 'project',\n",
        "                    're', 'edu', 'table', 'conference',\n",
        "                    'char_semicolon', 'char_parenthesis', 'char_bracket', 'char_exclamation', 'char_dollar',\n",
        "                    'char_hashtag', 'capital_run_length_average', 'capital_run_length_longest',\n",
        "                    'capital_run_length_total', 'is_spam']\n",
        "\n",
        "\n",
        "df.columns = column_names\n",
        "df.head()"
      ]
    },
    {
      "cell_type": "markdown",
      "metadata": {
        "id": "ledQv_n9s2U1"
      },
      "source": [
        "# **Splitting the data manually into training and test set**"
      ]
    },
    {
      "cell_type": "code",
      "execution_count": null,
      "metadata": {
        "id": "SIIpx6lKAY2v"
      },
      "outputs": [],
      "source": [
        "# Split the dataset into training and test sets\n",
        "train_df = df.iloc[:int(len(df) * 0.8)]\n",
        "test_df = df.iloc[int(len(df) * 0.8):]\n",
        "\n",
        "# Separate the features and target variables\n",
        "x_train_a = train_df.drop('is_spam', axis=1)\n",
        "y_train_a = train_df['is_spam']\n",
        "x_test_a = test_df.drop('is_spam', axis=1)\n",
        "y_test_a = test_df['is_spam']"
      ]
    },
    {
      "cell_type": "markdown",
      "metadata": {
        "id": "QjTTfCNAtzG1"
      },
      "source": [
        "# **Verifying the splitting process**"
      ]
    },
    {
      "cell_type": "code",
      "execution_count": null,
      "metadata": {
        "colab": {
          "base_uri": "https://localhost:8080/"
        },
        "id": "M5fqWBL3DmND",
        "outputId": "e346efa6-a492-4634-d641-cb49fda56214"
      },
      "outputs": [
        {
          "data": {
            "text/plain": [
              "(4601, 58)"
            ]
          },
          "execution_count": 37,
          "metadata": {},
          "output_type": "execute_result"
        }
      ],
      "source": [
        "df.shape"
      ]
    },
    {
      "cell_type": "code",
      "execution_count": null,
      "metadata": {
        "colab": {
          "base_uri": "https://localhost:8080/"
        },
        "id": "MnL3bu0iAYi7",
        "outputId": "6529dd48-9ab9-4115-eab7-389aff8a917f"
      },
      "outputs": [
        {
          "data": {
            "text/plain": [
              "(3680, 58)"
            ]
          },
          "execution_count": 38,
          "metadata": {},
          "output_type": "execute_result"
        }
      ],
      "source": [
        "train_df.shape"
      ]
    },
    {
      "cell_type": "code",
      "execution_count": null,
      "metadata": {
        "colab": {
          "base_uri": "https://localhost:8080/"
        },
        "id": "0UqIulokDcml",
        "outputId": "71e841c0-83f3-4e2b-ec44-b2474b9c4da4"
      },
      "outputs": [
        {
          "data": {
            "text/plain": [
              "(921, 58)"
            ]
          },
          "execution_count": 39,
          "metadata": {},
          "output_type": "execute_result"
        }
      ],
      "source": [
        "test_df.shape"
      ]
    },
    {
      "cell_type": "code",
      "execution_count": null,
      "metadata": {
        "colab": {
          "base_uri": "https://localhost:8080/"
        },
        "id": "upzF3apO3pL0",
        "outputId": "cb809d50-de23-4088-9504-7bfeae6f9e0f"
      },
      "outputs": [
        {
          "name": "stdout",
          "output_type": "stream",
          "text": [
            "Dataset shape (4601, 58)\n",
            "Training set shape (3680, 58)\n",
            "Testing set shape (921, 58)\n"
          ]
        }
      ],
      "source": [
        "print(\"Dataset shape\",df.shape)\n",
        "print(\"Training set shape\",train_df.shape)\n",
        "print(\"Testing set shape\",test_df.shape)"
      ]
    },
    {
      "cell_type": "markdown",
      "metadata": {
        "id": "9jB1DcRcERG3"
      },
      "source": [
        "# **A-1) Gaussian classifier**"
      ]
    },
    {
      "cell_type": "code",
      "execution_count": null,
      "metadata": {
        "id": "C1pxApcPENBh"
      },
      "outputs": [],
      "source": [
        "g_classifier_a = GaussianNB()"
      ]
    },
    {
      "cell_type": "code",
      "execution_count": null,
      "metadata": {
        "id": "O8rD2xudEM1r"
      },
      "outputs": [],
      "source": [
        "g_classifier_a.fit(x_train_a, y_train_a)\n",
        "y_pred_a = g_classifier_a.predict(x_test_a)"
      ]
    },
    {
      "cell_type": "markdown",
      "metadata": {
        "id": "yHp17nrH1zwV"
      },
      "source": [
        "### **Print the accuracy and confusion matrix for Gaussian classifier**"
      ]
    },
    {
      "cell_type": "code",
      "execution_count": null,
      "metadata": {
        "colab": {
          "base_uri": "https://localhost:8080/",
          "height": 576
        },
        "id": "D4uC-LPI15Af",
        "outputId": "9e1c1afe-1914-4383-eecd-d04a1bd0ac25"
      },
      "outputs": [
        {
          "name": "stdout",
          "output_type": "stream",
          "text": [
            "accuracy of test data for Gaussian:  0.6178067318132465\n",
            "Confusion matrix for test set: \n",
            " [[569 352]\n",
            " [  0   0]]\n"
          ]
        },
        {
          "data": {
            "image/png": "[encoded data removed]",
            "text/plain": [
              "<Figure size 500x500 with 1 Axes>"
            ]
          },
          "metadata": {},
          "output_type": "display_data"
        }
      ],
      "source": [
        "accuracy_a1 = accuracy_score(y_test_a, y_pred_a)\n",
        "print('accuracy of test data for Gaussian: ', accuracy_a1)\n",
        "\n",
        "cm_a1 = confusion_matrix(y_test_a, y_pred_a)\n",
        "print(\"Confusion matrix for test set: \\n\", cm_a1)\n",
        "conff_matrix(cm_a1)"
      ]
    },
    {
      "cell_type": "markdown",
      "metadata": {
        "id": "r-u8lmrKGDwV"
      },
      "source": [
        "# **A-2) Multinomial Naive Bayes Classifiers**"
      ]
    },
    {
      "cell_type": "code",
      "execution_count": null,
      "metadata": {
        "id": "BL1CXMAVEMlZ"
      },
      "outputs": [],
      "source": [
        "mn_classifier_a = MultinomialNB()"
      ]
    },
    {
      "cell_type": "code",
      "execution_count": null,
      "metadata": {
        "id": "kJHvmHunIgaX"
      },
      "outputs": [],
      "source": [
        "mn_classifier_a.fit(x_train_a, y_train_a)\n",
        "y2_pred_a = mn_classifier_a.predict(x_test_a)"
      ]
    },
    {
      "cell_type": "markdown",
      "metadata": {
        "id": "PUDIojGP2fBY"
      },
      "source": [
        "### Print the accuracy and confusion matrix for Multinomial Naive Bayes Classifier**"
      ]
    },
    {
      "cell_type": "code",
      "execution_count": null,
      "metadata": {
        "colab": {
          "base_uri": "https://localhost:8080/",
          "height": 576
        },
        "id": "AS2ZnoD92o3c",
        "outputId": "686b5157-725c-4d66-dff7-15d189bb1fb8"
      },
      "outputs": [
        {
          "name": "stdout",
          "output_type": "stream",
          "text": [
            "accuracy of test data for Multinomial:  0.7231270358306189\n",
            "Confusion matrix for test set: \n",
            " [[666 255]\n",
            " [  0   0]]\n"
          ]
        },
        {
          "data": {
            "image/png": "[encoded data removed]",
            "text/plain": [
              "<Figure size 500x500 with 1 Axes>"
            ]
          },
          "metadata": {},
          "output_type": "display_data"
        }
      ],
      "source": [
        "accuracy_a2 = accuracy_score(y_test_a, y2_pred_a)\n",
        "print('accuracy of test data for Multinomial: ', accuracy_a2)\n",
        "\n",
        "cm_a2 = confusion_matrix(y_test_a, y2_pred_a)\n",
        "print(\"Confusion matrix for test set: \\n\", cm_a2)\n",
        "conff_matrix(cm_a2)"
      ]
    },
    {
      "cell_type": "markdown",
      "metadata": {
        "id": "zHZsX4rREl5S"
      },
      "source": [
        "# **B) Splitting the data using train_test_split**"
      ]
    },
    {
      "cell_type": "code",
      "execution_count": null,
      "metadata": {
        "id": "UN_tlknxLRAP"
      },
      "outputs": [],
      "source": [
        "x = df.iloc[:,:-1]\n",
        "y = df.iloc[:,-1]\n",
        "y = np.array(y.tolist())\n",
        "x_train_b, x_test_b, y_train_b, y_test_b = train_test_split(x, y, test_size=0.2, random_state=42)"
      ]
    },
    {
      "cell_type": "code",
      "execution_count": null,
      "metadata": {
        "colab": {
          "base_uri": "https://localhost:8080/"
        },
        "id": "n6e8Jn4o4tOm",
        "outputId": "b4959e59-1e7b-4ee9-c7ff-76be4c312532"
      },
      "outputs": [
        {
          "name": "stdout",
          "output_type": "stream",
          "text": [
            "Training set shape (3680, 57)\n",
            "Testing set shape (921, 57)\n"
          ]
        }
      ],
      "source": [
        "print(\"Training set shape\",x_train_b.shape)\n",
        "print(\"Testing set shape\",x_test_b.shape)"
      ]
    },
    {
      "cell_type": "markdown",
      "metadata": {
        "id": "M8rJCUep9I3G"
      },
      "source": [
        "# **B-1) Gaussian classifier**"
      ]
    },
    {
      "cell_type": "code",
      "execution_count": null,
      "metadata": {
        "id": "odsksmd1Msnh"
      },
      "outputs": [],
      "source": [
        "g_classifier_b = GaussianNB()"
      ]
    },
    {
      "cell_type": "code",
      "execution_count": null,
      "metadata": {
        "id": "D9lzinvkOEKs"
      },
      "outputs": [],
      "source": [
        "g_classifier_b.fit(x_train_b, y_train_b)\n",
        "y_pred_b = g_classifier_b.predict(x_test_b)"
      ]
    },
    {
      "cell_type": "markdown",
      "metadata": {
        "id": "9F7Y7UcZ1fcX"
      },
      "source": [
        "### **Print the accuracy and confusion matrix for Gaussian classifier**"
      ]
    },
    {
      "cell_type": "code",
      "execution_count": null,
      "metadata": {
        "colab": {
          "base_uri": "https://localhost:8080/",
          "height": 576
        },
        "id": "tmt3Q42a1Vvc",
        "outputId": "403551c5-8381-4304-fa34-089f851694ef"
      },
      "outputs": [
        {
          "name": "stdout",
          "output_type": "stream",
          "text": [
            "accuracy of test data for Gaussian:  0.8208469055374593\n",
            "Confusion matrix for test set: \n",
            " [[387 144]\n",
            " [ 21 369]]\n"
          ]
        },
        {
          "data": {
            "image/png": "[encoded data removed]",
            "text/plain": [
              "<Figure size 500x500 with 1 Axes>"
            ]
          },
          "metadata": {},
          "output_type": "display_data"
        }
      ],
      "source": [
        "accuracy_b1 = accuracy_score(y_test_b, y_pred_b)\n",
        "print('accuracy of test data for Gaussian: ', accuracy_b1)\n",
        "\n",
        "cm_b1 = confusion_matrix(y_test_b, y_pred_b)\n",
        "print(\"Confusion matrix for test set: \\n\", cm_b1)\n",
        "conff_matrix(cm_b1)"
      ]
    },
    {
      "cell_type": "markdown",
      "metadata": {
        "id": "QFiCqOQNz3Rj"
      },
      "source": [
        "### **Print the classification report for Gaussian classifier**\n",
        "\n"
      ]
    },
    {
      "cell_type": "code",
      "execution_count": null,
      "metadata": {
        "colab": {
          "base_uri": "https://localhost:8080/",
          "height": 53
        },
        "id": "y8xBfJpGpn97",
        "outputId": "a7013f25-f950-4588-b624-ced14e6eaa91"
      },
      "outputs": [
        {
          "data": {
            "text/plain": [
              "'              precision    recall  f1-score   support\\n\\n           0       0.95      0.73      0.82       531\\n           1       0.72      0.95      0.82       390\\n\\n    accuracy                           0.82       921\\n   macro avg       0.83      0.84      0.82       921\\nweighted avg       0.85      0.82      0.82       921\\n'"
            ]
          },
          "execution_count": 52,
          "metadata": {},
          "output_type": "execute_result"
        }
      ],
      "source": [
        "classification_report(y_test_b, y_pred_b)"
      ]
    },
    {
      "cell_type": "markdown",
      "metadata": {
        "id": "KkdvJn0Q9QnQ"
      },
      "source": [
        "# **B-2) Multinomial Naive Bayes Classifier**"
      ]
    },
    {
      "cell_type": "code",
      "execution_count": null,
      "metadata": {
        "id": "v65ZVBRpZPm9"
      },
      "outputs": [],
      "source": [
        "mn_classifier_b = MultinomialNB()"
      ]
    },
    {
      "cell_type": "code",
      "execution_count": null,
      "metadata": {
        "id": "t1omsWmAmF88"
      },
      "outputs": [],
      "source": [
        "mn_classifier_b.fit(x_train_b, y_train_b)\n",
        "y2_pred_b = mn_classifier_b.predict(x_test_b)"
      ]
    },
    {
      "cell_type": "markdown",
      "metadata": {
        "id": "NdOhd_vl1Djx"
      },
      "source": [
        "### **Print the accuracy and confusion matrix for Multinomial Naive Bayes Classifier**"
      ]
    },
    {
      "cell_type": "code",
      "execution_count": null,
      "metadata": {
        "colab": {
          "base_uri": "https://localhost:8080/",
          "height": 576
        },
        "id": "bbodZ4BY1Ok8",
        "outputId": "47f4a82b-b0f6-4d1a-a693-729c7a0320fc"
      },
      "outputs": [
        {
          "name": "stdout",
          "output_type": "stream",
          "text": [
            "accuracy of test data for Multinomial:  0.7861020629750272\n",
            "Confusion matrix for test set: \n",
            " [[445  86]\n",
            " [111 279]]\n"
          ]
        },
        {
          "data": {
            "image/png": "[encoded data removed]",
            "text/plain": [
              "<Figure size 500x500 with 1 Axes>"
            ]
          },
          "metadata": {},
          "output_type": "display_data"
        }
      ],
      "source": [
        "accuracy_b2 = accuracy_score(y_test_b, y2_pred_b)\n",
        "print('accuracy of test data for Multinomial: ', accuracy_b2)\n",
        "\n",
        "cm_b2 = confusion_matrix(y_test_b, y2_pred_b)\n",
        "print(\"Confusion matrix for test set: \\n\", cm_b2)\n",
        "conff_matrix(cm_b2)"
      ]
    },
    {
      "cell_type": "markdown",
      "metadata": {
        "id": "LYnni6HY0HSH"
      },
      "source": [
        "### **Print the classification report for Multinomial Naive Bayes Classifier**"
      ]
    },
    {
      "cell_type": "code",
      "execution_count": null,
      "metadata": {
        "colab": {
          "base_uri": "https://localhost:8080/",
          "height": 53
        },
        "id": "c7k24kZ6peS8",
        "outputId": "e23ef5f6-a024-4e59-f9cd-8e7822433916"
      },
      "outputs": [
        {
          "data": {
            "text/plain": [
              "'              precision    recall  f1-score   support\\n\\n           0       0.80      0.84      0.82       531\\n           1       0.76      0.72      0.74       390\\n\\n    accuracy                           0.79       921\\n   macro avg       0.78      0.78      0.78       921\\nweighted avg       0.79      0.79      0.79       921\\n'"
            ]
          },
          "execution_count": 56,
          "metadata": {},
          "output_type": "execute_result"
        }
      ],
      "source": [
        "classification_report(y_test_b, y2_pred_b)"
      ]
    },
    {
      "cell_type": "markdown",
      "metadata": {
        "id": "yTp9YfT9SlPK"
      },
      "source": [
        "# **C) Train using Bernoulli classifier**"
      ]
    },
    {
      "cell_type": "code",
      "execution_count": null,
      "metadata": {
        "id": "-vQVZmz-RJix"
      },
      "outputs": [],
      "source": [
        "bn_classifier = BernoulliNB()\n",
        "bn_classifier.fit(x_train_b, y_train_b)\n",
        "y_pred_bn = bn_classifier.predict(x_test_b)\n",
        "acc_bn = accuracy_score(y_test_b, y_pred_bn)"
      ]
    },
    {
      "cell_type": "markdown",
      "metadata": {
        "id": "iISTwWkQ0xHE"
      },
      "source": [
        "### **Print the accuracy and classification report for Bernoulli classifier**"
      ]
    },
    {
      "cell_type": "code",
      "execution_count": null,
      "metadata": {
        "colab": {
          "base_uri": "https://localhost:8080/",
          "height": 53
        },
        "id": "0lokmfO_otiA",
        "outputId": "0af12243-a96c-48d2-d124-86c1788c3708"
      },
      "outputs": [
        {
          "name": "stdout",
          "output_type": "stream",
          "text": [
            "The accuracy for Bernoulli classifier 0.8805646036916395\n",
            "Classification Report\n",
            "               precision    recall  f1-score   support\n",
            "\n",
            "           0       0.86      0.94      0.90       531\n",
            "           1       0.91      0.80      0.85       390\n",
            "\n",
            "    accuracy                           0.88       921\n",
            "   macro avg       0.89      0.87      0.88       921\n",
            "weighted avg       0.88      0.88      0.88       921\n",
            "\n"
          ]
        }
      ],
      "source": [
        "print(\"The accuracy for Bernoulli classifier\",acc_bn)\n",
        "print(\"Classification Report\\n\",classification_report(y_test_b, y_pred_bn))"
      ]
    },
    {
      "cell_type": "markdown",
      "metadata": {
        "id": "6UIVVOPX3EWf"
      },
      "source": [
        "### **Print confusion matrix for Bernoulli classifier**"
      ]
    },
    {
      "cell_type": "code",
      "execution_count": null,
      "metadata": {
        "colab": {
          "base_uri": "https://localhost:8080/",
          "height": 559
        },
        "id": "JUZdaf5NVMdA",
        "outputId": "f6bbf197-7e21-4299-f156-c851f7fd6640"
      },
      "outputs": [
        {
          "name": "stdout",
          "output_type": "stream",
          "text": [
            "Confusion matrix for test set: \n",
            " [[499  32]\n",
            " [ 78 312]]\n"
          ]
        },
        {
          "data": {
            "image/png": "[encoded data removed]",
            "text/plain": [
              "<Figure size 500x500 with 1 Axes>"
            ]
          },
          "metadata": {},
          "output_type": "display_data"
        }
      ],
      "source": [
        "cm_c1 = confusion_matrix(y_test_b, y_pred_bn)\n",
        "print(\"Confusion matrix for test set: \\n\", cm_c1)\n",
        "conff_matrix(cm_c1)"
      ]
    },
    {
      "cell_type": "markdown",
      "metadata": {
        "id": "I7YaOPOwWJG5"
      },
      "source": [
        "### The reason why the Bernoulli Naive Bayes classifier performs better in this case is because it is designed to work with binary data. In this dataset, the features are counts of words and characters, which can be considered binary data by thresholding them at zero. The Bernoulli Naive Bayes classifier models the probability of each feature being present or absent in each class, which is a better fit for this type of data than the Gaussian or Multinomial Naive Bayes classifiers.\n",
        "\n",
        "### The classification report for the Bernoulli Naive Bayes classifier shows that it achieves high precision and recall for both the spam and non-spam classes, with an F1-score of 0.85. The confusion matrix shows that the classifier correctly classified 499 non-spam emails and 312 spam emails, with only 32 false positives and 78 false negatives."
      ]
    },
    {
      "cell_type": "markdown",
      "metadata": {
        "id": "aZhK-wtNuHi-"
      },
      "source": [
        "### **Take the first 80 percent training samples of A, and split the data into four equal parts**"
      ]
    },
    {
      "cell_type": "code",
      "execution_count": null,
      "metadata": {
        "id": "2ByvhhqKVZET"
      },
      "outputs": [],
      "source": [
        "# Divide the training set into four equal subsets\n",
        "subset_size = len(x_train_a) // 4\n",
        "subset_1_X = x_train_a.iloc[:subset_size]\n",
        "subset_1_y = y_train_a.iloc[:subset_size]\n",
        "subset_2_X = x_train_a.iloc[subset_size:subset_size*2]\n",
        "subset_2_y = y_train_a.iloc[subset_size:subset_size*2]\n",
        "subset_3_X = x_train_a.iloc[subset_size*2:subset_size*3]\n",
        "subset_3_y = y_train_a.iloc[subset_size*2:subset_size*3]\n",
        "subset_4_X = x_train_a.iloc[subset_size*3:]\n",
        "subset_4_y = y_train_a.iloc[subset_size*3:]"
      ]
    },
    {
      "cell_type": "code",
      "execution_count": null,
      "metadata": {
        "id": "3WPnqE4kzZQ7",
        "outputId": "861450df-65d5-4af7-f7b9-db1f511f94fb"
      },
      "outputs": [
        {
          "name": "stdout",
          "output_type": "stream",
          "text": [
            "Training set of subset-1 (920, 57)\n",
            "Training set of subset-2 (920, 57)\n",
            "Training set of subset-3 (920, 57)\n",
            "Training set of subset-4 (920, 57)\n",
            "Test set of subset-1 (920,)\n",
            "Test set of subset-2 (920,)\n",
            "Test set of subset-3 (920,)\n",
            "Test set of subset-4 (920,)\n"
          ]
        }
      ],
      "source": [
        "print(\"Training set of subset-1\",subset_1_X.shape)\n",
        "print(\"Training set of subset-2\",subset_2_X.shape)\n",
        "print(\"Training set of subset-3\",subset_3_X.shape)\n",
        "print(\"Training set of subset-4\",subset_4_X.shape)\n",
        "print(\"Test set of subset-1\",subset_1_y.shape)\n",
        "print(\"Test set of subset-2\",subset_2_y.shape)\n",
        "print(\"Test set of subset-3\",subset_3_y.shape)\n",
        "print(\"Test set of subset-4\",subset_4_y.shape)"
      ]
    },
    {
      "cell_type": "markdown",
      "metadata": {
        "id": "FKVAsGbzuzyP"
      },
      "source": [
        "# **Train the 4 subsets using Bernoulli classifier**"
      ]
    },
    {
      "cell_type": "code",
      "execution_count": null,
      "metadata": {
        "id": "fbfuRJGBeSVw"
      },
      "outputs": [],
      "source": [
        "# Train Bernoulli Naive Bayes Classifier on each subset and evaluate on the test set\n",
        "accuracies = []\n",
        "bn_classifier = BernoulliNB()\n",
        "for x_subset, y_subset in [(subset_1_X, subset_1_y), (subset_2_X, subset_2_y),\n",
        "                           (subset_3_X, subset_3_y), (subset_4_X, subset_4_y)]:\n",
        "    bn_classifier.fit(x_subset, y_subset)\n",
        "    y_pred = bn_classifier.predict(x_test_a)\n",
        "    accuracy = accuracy_score(y_test_a, y_pred)\n",
        "    accuracies.append(accuracy)"
      ]
    },
    {
      "cell_type": "markdown",
      "metadata": {
        "id": "g-R9trsS3aTZ"
      },
      "source": [
        "### **Accuracies for the 4 subsets**"
      ]
    },
    {
      "cell_type": "code",
      "execution_count": null,
      "metadata": {
        "colab": {
          "base_uri": "https://localhost:8080/"
        },
        "id": "gPRa8bfEvf3V",
        "outputId": "6e2b2fc7-9963-4f5b-aa45-f30e6ef0b4fd"
      },
      "outputs": [
        {
          "name": "stdout",
          "output_type": "stream",
          "text": [
            "Accuracies for the 4 subsets [0.0, 0.6438653637350705, 1.0, 1.0]\n"
          ]
        }
      ],
      "source": [
        "print(\"Accuracies for the 4 subsets\",accuracies)"
      ]
    },
    {
      "cell_type": "markdown",
      "metadata": {
        "id": "iJGAAQo4vHoV"
      },
      "source": [
        "# **plotting the accuracies using a bar chart**"
      ]
    },
    {
      "cell_type": "code",
      "execution_count": null,
      "metadata": {
        "colab": {
          "base_uri": "https://localhost:8080/",
          "height": 472
        },
        "id": "XIKkpjXceiNf",
        "outputId": "881e7a7e-9c1c-4912-e890-b6ef473d7c7b"
      },
      "outputs": [
        {
          "data": {
            "image/png": "[encoded data removed]",
            "text/plain": [
              "<Figure size 640x480 with 1 Axes>"
            ]
          },
          "metadata": {},
          "output_type": "display_data"
        }
      ],
      "source": [
        "# Plot the accuracies for each subset as a bar chart\n",
        "plt.bar(['Subset 1', 'Subset 2', 'Subset 3', 'Subset 4'], accuracies)\n",
        "plt.title('Accuracy of Bernoulli Naive Bayes Classifier on the 4 subsets')\n",
        "plt.xlabel('Subset')\n",
        "plt.ylabel('Accuracy')\n",
        "plt.ylim(0.60, 1)\n",
        "plt.show()"
      ]
    },
    {
      "cell_type": "code",
      "execution_count": null,
      "metadata": {
        "colab": {
          "base_uri": "https://localhost:8080/"
        },
        "id": "k7QUEJVHsOb6",
        "outputId": "25394311-bdc7-4b08-c2e7-969124a463e1"
      },
      "outputs": [
        {
          "data": {
            "text/plain": [
              "920     1\n",
              "921     1\n",
              "922     1\n",
              "923     1\n",
              "924     1\n",
              "       ..\n",
              "1835    0\n",
              "1836    0\n",
              "1837    0\n",
              "1838    0\n",
              "1839    0\n",
              "Name: is_spam, Length: 920, dtype: int64"
            ]
          },
          "execution_count": 69,
          "metadata": {},
          "output_type": "execute_result"
        }
      ],
      "source": [
        "subset_2_y"
      ]
    },
    {
      "cell_type": "code",
      "execution_count": null,
      "metadata": {
        "colab": {
          "base_uri": "https://localhost:8080/",
          "height": 487
        },
        "id": "CGnOD17ktgkV",
        "outputId": "64433f06-b3d7-4a98-9116-b7a7f6d2fd62"
      },
      "outputs": [
        {
          "data": {
            "text/html": [
              "<div>\n",
              "<style scoped>\n",
              "    .dataframe tbody tr th:only-of-type {\n",
              "        vertical-align: middle;\n",
              "    }\n",
              "\n",
              "    .dataframe tbody tr th {\n",
              "        vertical-align: top;\n",
              "    }\n",
              "\n",
              "    .dataframe thead th {\n",
              "        text-align: right;\n",
              "    }\n",
              "</style>\n",
              "<table border=\"1\" class=\"dataframe\">\n",
              "  <thead>\n",
              "    <tr style=\"text-align: right;\">\n",
              "      <th></th>\n",
              "      <th>make</th>\n",
              "      <th>address</th>\n",
              "      <th>all</th>\n",
              "      <th>3d</th>\n",
              "      <th>our</th>\n",
              "      <th>over</th>\n",
              "      <th>remove</th>\n",
              "      <th>internet</th>\n",
              "      <th>order</th>\n",
              "      <th>mail</th>\n",
              "      <th>...</th>\n",
              "      <th>conference</th>\n",
              "      <th>char_semicolon</th>\n",
              "      <th>char_parenthesis</th>\n",
              "      <th>char_bracket</th>\n",
              "      <th>char_exclamation</th>\n",
              "      <th>char_dollar</th>\n",
              "      <th>char_hashtag</th>\n",
              "      <th>capital_run_length_average</th>\n",
              "      <th>capital_run_length_longest</th>\n",
              "      <th>capital_run_length_total</th>\n",
              "    </tr>\n",
              "  </thead>\n",
              "  <tbody>\n",
              "    <tr>\n",
              "      <th>3680</th>\n",
              "      <td>0.00</td>\n",
              "      <td>0.0</td>\n",
              "      <td>0.00</td>\n",
              "      <td>0.0</td>\n",
              "      <td>0.00</td>\n",
              "      <td>0.00</td>\n",
              "      <td>0.0</td>\n",
              "      <td>0.0</td>\n",
              "      <td>0.0</td>\n",
              "      <td>0.0</td>\n",
              "      <td>...</td>\n",
              "      <td>0.0</td>\n",
              "      <td>0.000</td>\n",
              "      <td>0.000</td>\n",
              "      <td>0.0</td>\n",
              "      <td>0.000</td>\n",
              "      <td>0.0</td>\n",
              "      <td>0.0</td>\n",
              "      <td>1.000</td>\n",
              "      <td>1</td>\n",
              "      <td>3</td>\n",
              "    </tr>\n",
              "    <tr>\n",
              "      <th>3681</th>\n",
              "      <td>0.00</td>\n",
              "      <td>0.0</td>\n",
              "      <td>0.00</td>\n",
              "      <td>0.0</td>\n",
              "      <td>0.00</td>\n",
              "      <td>0.00</td>\n",
              "      <td>0.0</td>\n",
              "      <td>0.0</td>\n",
              "      <td>0.0</td>\n",
              "      <td>0.0</td>\n",
              "      <td>...</td>\n",
              "      <td>0.0</td>\n",
              "      <td>0.000</td>\n",
              "      <td>0.000</td>\n",
              "      <td>0.0</td>\n",
              "      <td>0.000</td>\n",
              "      <td>0.0</td>\n",
              "      <td>0.0</td>\n",
              "      <td>1.000</td>\n",
              "      <td>1</td>\n",
              "      <td>3</td>\n",
              "    </tr>\n",
              "    <tr>\n",
              "      <th>3682</th>\n",
              "      <td>0.00</td>\n",
              "      <td>0.0</td>\n",
              "      <td>0.00</td>\n",
              "      <td>0.0</td>\n",
              "      <td>0.00</td>\n",
              "      <td>0.00</td>\n",
              "      <td>0.0</td>\n",
              "      <td>0.0</td>\n",
              "      <td>0.0</td>\n",
              "      <td>0.0</td>\n",
              "      <td>...</td>\n",
              "      <td>0.0</td>\n",
              "      <td>0.000</td>\n",
              "      <td>0.000</td>\n",
              "      <td>0.0</td>\n",
              "      <td>0.000</td>\n",
              "      <td>0.0</td>\n",
              "      <td>0.0</td>\n",
              "      <td>1.000</td>\n",
              "      <td>1</td>\n",
              "      <td>4</td>\n",
              "    </tr>\n",
              "    <tr>\n",
              "      <th>3683</th>\n",
              "      <td>0.00</td>\n",
              "      <td>0.0</td>\n",
              "      <td>0.00</td>\n",
              "      <td>0.0</td>\n",
              "      <td>0.00</td>\n",
              "      <td>0.00</td>\n",
              "      <td>0.0</td>\n",
              "      <td>0.0</td>\n",
              "      <td>0.0</td>\n",
              "      <td>0.0</td>\n",
              "      <td>...</td>\n",
              "      <td>0.0</td>\n",
              "      <td>0.000</td>\n",
              "      <td>0.000</td>\n",
              "      <td>0.0</td>\n",
              "      <td>0.000</td>\n",
              "      <td>0.0</td>\n",
              "      <td>0.0</td>\n",
              "      <td>1.000</td>\n",
              "      <td>1</td>\n",
              "      <td>3</td>\n",
              "    </tr>\n",
              "    <tr>\n",
              "      <th>3684</th>\n",
              "      <td>0.00</td>\n",
              "      <td>0.0</td>\n",
              "      <td>0.00</td>\n",
              "      <td>0.0</td>\n",
              "      <td>0.00</td>\n",
              "      <td>0.00</td>\n",
              "      <td>0.0</td>\n",
              "      <td>0.0</td>\n",
              "      <td>0.0</td>\n",
              "      <td>0.0</td>\n",
              "      <td>...</td>\n",
              "      <td>0.0</td>\n",
              "      <td>0.000</td>\n",
              "      <td>0.000</td>\n",
              "      <td>0.0</td>\n",
              "      <td>0.000</td>\n",
              "      <td>0.0</td>\n",
              "      <td>0.0</td>\n",
              "      <td>1.000</td>\n",
              "      <td>1</td>\n",
              "      <td>3</td>\n",
              "    </tr>\n",
              "    <tr>\n",
              "      <th>...</th>\n",
              "      <td>...</td>\n",
              "      <td>...</td>\n",
              "      <td>...</td>\n",
              "      <td>...</td>\n",
              "      <td>...</td>\n",
              "      <td>...</td>\n",
              "      <td>...</td>\n",
              "      <td>...</td>\n",
              "      <td>...</td>\n",
              "      <td>...</td>\n",
              "      <td>...</td>\n",
              "      <td>...</td>\n",
              "      <td>...</td>\n",
              "      <td>...</td>\n",
              "      <td>...</td>\n",
              "      <td>...</td>\n",
              "      <td>...</td>\n",
              "      <td>...</td>\n",
              "      <td>...</td>\n",
              "      <td>...</td>\n",
              "      <td>...</td>\n",
              "    </tr>\n",
              "    <tr>\n",
              "      <th>4596</th>\n",
              "      <td>0.31</td>\n",
              "      <td>0.0</td>\n",
              "      <td>0.62</td>\n",
              "      <td>0.0</td>\n",
              "      <td>0.00</td>\n",
              "      <td>0.31</td>\n",
              "      <td>0.0</td>\n",
              "      <td>0.0</td>\n",
              "      <td>0.0</td>\n",
              "      <td>0.0</td>\n",
              "      <td>...</td>\n",
              "      <td>0.0</td>\n",
              "      <td>0.000</td>\n",
              "      <td>0.232</td>\n",
              "      <td>0.0</td>\n",
              "      <td>0.000</td>\n",
              "      <td>0.0</td>\n",
              "      <td>0.0</td>\n",
              "      <td>1.142</td>\n",
              "      <td>3</td>\n",
              "      <td>88</td>\n",
              "    </tr>\n",
              "    <tr>\n",
              "      <th>4597</th>\n",
              "      <td>0.00</td>\n",
              "      <td>0.0</td>\n",
              "      <td>0.00</td>\n",
              "      <td>0.0</td>\n",
              "      <td>0.00</td>\n",
              "      <td>0.00</td>\n",
              "      <td>0.0</td>\n",
              "      <td>0.0</td>\n",
              "      <td>0.0</td>\n",
              "      <td>0.0</td>\n",
              "      <td>...</td>\n",
              "      <td>0.0</td>\n",
              "      <td>0.000</td>\n",
              "      <td>0.000</td>\n",
              "      <td>0.0</td>\n",
              "      <td>0.353</td>\n",
              "      <td>0.0</td>\n",
              "      <td>0.0</td>\n",
              "      <td>1.555</td>\n",
              "      <td>4</td>\n",
              "      <td>14</td>\n",
              "    </tr>\n",
              "    <tr>\n",
              "      <th>4598</th>\n",
              "      <td>0.30</td>\n",
              "      <td>0.0</td>\n",
              "      <td>0.30</td>\n",
              "      <td>0.0</td>\n",
              "      <td>0.00</td>\n",
              "      <td>0.00</td>\n",
              "      <td>0.0</td>\n",
              "      <td>0.0</td>\n",
              "      <td>0.0</td>\n",
              "      <td>0.0</td>\n",
              "      <td>...</td>\n",
              "      <td>0.0</td>\n",
              "      <td>0.102</td>\n",
              "      <td>0.718</td>\n",
              "      <td>0.0</td>\n",
              "      <td>0.000</td>\n",
              "      <td>0.0</td>\n",
              "      <td>0.0</td>\n",
              "      <td>1.404</td>\n",
              "      <td>6</td>\n",
              "      <td>118</td>\n",
              "    </tr>\n",
              "    <tr>\n",
              "      <th>4599</th>\n",
              "      <td>0.96</td>\n",
              "      <td>0.0</td>\n",
              "      <td>0.00</td>\n",
              "      <td>0.0</td>\n",
              "      <td>0.32</td>\n",
              "      <td>0.00</td>\n",
              "      <td>0.0</td>\n",
              "      <td>0.0</td>\n",
              "      <td>0.0</td>\n",
              "      <td>0.0</td>\n",
              "      <td>...</td>\n",
              "      <td>0.0</td>\n",
              "      <td>0.000</td>\n",
              "      <td>0.057</td>\n",
              "      <td>0.0</td>\n",
              "      <td>0.000</td>\n",
              "      <td>0.0</td>\n",
              "      <td>0.0</td>\n",
              "      <td>1.147</td>\n",
              "      <td>5</td>\n",
              "      <td>78</td>\n",
              "    </tr>\n",
              "    <tr>\n",
              "      <th>4600</th>\n",
              "      <td>0.00</td>\n",
              "      <td>0.0</td>\n",
              "      <td>0.65</td>\n",
              "      <td>0.0</td>\n",
              "      <td>0.00</td>\n",
              "      <td>0.00</td>\n",
              "      <td>0.0</td>\n",
              "      <td>0.0</td>\n",
              "      <td>0.0</td>\n",
              "      <td>0.0</td>\n",
              "      <td>...</td>\n",
              "      <td>0.0</td>\n",
              "      <td>0.000</td>\n",
              "      <td>0.000</td>\n",
              "      <td>0.0</td>\n",
              "      <td>0.125</td>\n",
              "      <td>0.0</td>\n",
              "      <td>0.0</td>\n",
              "      <td>1.250</td>\n",
              "      <td>5</td>\n",
              "      <td>40</td>\n",
              "    </tr>\n",
              "  </tbody>\n",
              "</table>\n",
              "<p>921 rows × 57 columns</p>\n",
              "</div>"
            ],
            "text/plain": [
              "      make  address   all   3d   our  over  remove  internet  order  mail  \\\n",
              "3680  0.00      0.0  0.00  0.0  0.00  0.00     0.0       0.0    0.0   0.0   \n",
              "3681  0.00      0.0  0.00  0.0  0.00  0.00     0.0       0.0    0.0   0.0   \n",
              "3682  0.00      0.0  0.00  0.0  0.00  0.00     0.0       0.0    0.0   0.0   \n",
              "3683  0.00      0.0  0.00  0.0  0.00  0.00     0.0       0.0    0.0   0.0   \n",
              "3684  0.00      0.0  0.00  0.0  0.00  0.00     0.0       0.0    0.0   0.0   \n",
              "...    ...      ...   ...  ...   ...   ...     ...       ...    ...   ...   \n",
              "4596  0.31      0.0  0.62  0.0  0.00  0.31     0.0       0.0    0.0   0.0   \n",
              "4597  0.00      0.0  0.00  0.0  0.00  0.00     0.0       0.0    0.0   0.0   \n",
              "4598  0.30      0.0  0.30  0.0  0.00  0.00     0.0       0.0    0.0   0.0   \n",
              "4599  0.96      0.0  0.00  0.0  0.32  0.00     0.0       0.0    0.0   0.0   \n",
              "4600  0.00      0.0  0.65  0.0  0.00  0.00     0.0       0.0    0.0   0.0   \n",
              "\n",
              "      ...  conference  char_semicolon  char_parenthesis  char_bracket  \\\n",
              "3680  ...         0.0           0.000             0.000           0.0   \n",
              "3681  ...         0.0           0.000             0.000           0.0   \n",
              "3682  ...         0.0           0.000             0.000           0.0   \n",
              "3683  ...         0.0           0.000             0.000           0.0   \n",
              "3684  ...         0.0           0.000             0.000           0.0   \n",
              "...   ...         ...             ...               ...           ...   \n",
              "4596  ...         0.0           0.000             0.232           0.0   \n",
              "4597  ...         0.0           0.000             0.000           0.0   \n",
              "4598  ...         0.0           0.102             0.718           0.0   \n",
              "4599  ...         0.0           0.000             0.057           0.0   \n",
              "4600  ...         0.0           0.000             0.000           0.0   \n",
              "\n",
              "      char_exclamation  char_dollar  char_hashtag  capital_run_length_average  \\\n",
              "3680             0.000          0.0           0.0                       1.000   \n",
              "3681             0.000          0.0           0.0                       1.000   \n",
              "3682             0.000          0.0           0.0                       1.000   \n",
              "3683             0.000          0.0           0.0                       1.000   \n",
              "3684             0.000          0.0           0.0                       1.000   \n",
              "...                ...          ...           ...                         ...   \n",
              "4596             0.000          0.0           0.0                       1.142   \n",
              "4597             0.353          0.0           0.0                       1.555   \n",
              "4598             0.000          0.0           0.0                       1.404   \n",
              "4599             0.000          0.0           0.0                       1.147   \n",
              "4600             0.125          0.0           0.0                       1.250   \n",
              "\n",
              "      capital_run_length_longest  capital_run_length_total  \n",
              "3680                           1                         3  \n",
              "3681                           1                         3  \n",
              "3682                           1                         4  \n",
              "3683                           1                         3  \n",
              "3684                           1                         3  \n",
              "...                          ...                       ...  \n",
              "4596                           3                        88  \n",
              "4597                           4                        14  \n",
              "4598                           6                       118  \n",
              "4599                           5                        78  \n",
              "4600                           5                        40  \n",
              "\n",
              "[921 rows x 57 columns]"
            ]
          },
          "execution_count": 70,
          "metadata": {},
          "output_type": "execute_result"
        }
      ],
      "source": [
        "x_test_a"
      ]
    },
    {
      "cell_type": "markdown",
      "metadata": {
        "id": "rXlcGaX6ymnc"
      },
      "source": [
        "### **Count values in subset1 and subset2**"
      ]
    },
    {
      "cell_type": "code",
      "execution_count": null,
      "metadata": {
        "colab": {
          "base_uri": "https://localhost:8080/"
        },
        "id": "Ipc3ml85yem_",
        "outputId": "2e2ba06b-2ccc-4c2d-dae1-e42bb1165662"
      },
      "outputs": [
        {
          "data": {
            "text/plain": [
              "1    920\n",
              "Name: is_spam, dtype: int64"
            ]
          },
          "execution_count": 71,
          "metadata": {},
          "output_type": "execute_result"
        }
      ],
      "source": [
        "subset_1_y.value_counts()"
      ]
    },
    {
      "cell_type": "code",
      "execution_count": null,
      "metadata": {
        "colab": {
          "base_uri": "https://localhost:8080/"
        },
        "id": "Lzvs5oW-vMPL",
        "outputId": "627af0b9-ea64-4357-e77d-8dabc15711a7"
      },
      "outputs": [
        {
          "data": {
            "text/plain": [
              "1    893\n",
              "0     27\n",
              "Name: is_spam, dtype: int64"
            ]
          },
          "execution_count": 72,
          "metadata": {},
          "output_type": "execute_result"
        }
      ],
      "source": [
        "subset_2_y.value_counts()"
      ]
    },
    {
      "cell_type": "markdown",
      "metadata": {
        "id": "LWk4DSTgq59L"
      },
      "source": [
        "#### The accuracies of the four subsets are as follows: subset1 = 0.0, subset2 = 0.6438653637350705, subset3 = 1.0, and subset4 = 1.0.\n",
        "\n",
        "###### It is obvious that subsets 1 and 2 have the lowest accuracies due to data imbalance. Specifically, in subset1, all the data points have a value of 1. When the model attempts to compare these values with test data, which is also unbalanced and predominantly consists of zeros, this results in poor accuracy. Similarly, in subset2, nearly 893 data points have a value of 1 (\"spam\"), while only 27 have a value of 0 (\"not spam\"). As a result, when the model compares subset2 with test data, it yields an accuracy of 0.6438653637350705. In contrast, subsets 3 and 4 have accuracies of 100% as all their values are 1."
      ]
    },
    {
      "cell_type": "code",
      "execution_count": null,
      "metadata": {
        "id": "VnOPWbhJzZQ-"
      },
      "outputs": [],
      "source": []
    }
  ],
  "metadata": {
    "colab": {
      "provenance": [],
      "include_colab_link": true
    },
    "kernelspec": {
      "display_name": "Python 3 (ipykernel)",
      "language": "python",
      "name": "python3"
    },
    "language_info": {
      "codemirror_mode": {
        "name": "ipython",
        "version": 3
      },
      "file_extension": ".py",
      "mimetype": "text/x-python",
      "name": "python",
      "nbconvert_exporter": "python",
      "pygments_lexer": "ipython3",
      "version": "3.10.9"
    }
  },
  "nbformat": 4,
  "nbformat_minor": 0
}